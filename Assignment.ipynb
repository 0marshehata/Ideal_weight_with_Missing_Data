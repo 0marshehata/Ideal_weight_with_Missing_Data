{
 "cells": [
  {
   "cell_type": "markdown",
   "id": "b99807c0",
   "metadata": {},
   "source": [
    "\n",
    "This notebook demonstrates how to handle missing values in a dataset using **pandas** in Google Colab.\n",
    "We'll:\n",
    "1. Upload a CSV file\n",
    "2. Inspect missing values\n",
    "3. Apply three methods: Dropna, Mean Fill, and Forward Fill\n",
    "4. Compare results."
   ]
  },
  {
   "cell_type": "code",
   "execution_count": null,
   "id": "6bfbb94b",
   "metadata": {},
   "outputs": [],
   "source": [
    "import pandas as pd\n",
    "import numpy as np\n",
    "from google.colab import files"
   ]
  },
  {
   "cell_type": "code",
   "execution_count": null,
   "id": "a41ba24c",
   "metadata": {},
   "outputs": [],
   "source": [
    "print(\" Please upload your dataset file (e.g., ideal_weight_dataset_with_missing.csv):\")\n",
    "uploaded = files.upload()\n",
    "\n",
    "file_name = list(uploaded.keys())[0]\n",
    "print(f\"\\n File uploaded successfully: {file_name}\")"
   ]
  },
  {
   "cell_type": "code",
   "execution_count": null,
   "id": "e267606a",
   "metadata": {},
   "outputs": [],
   "source": [
    "df = pd.read_csv(file_name)\n",
    "\n",
    "print(\"\\n First 5 rows of the dataset:\")\n",
    "print(df.head())\n",
    "\n",
    "print(\"\\n Number of missing values before handling:\")\n",
    "print(df.isnull().sum())"
   ]
  },
  {
   "cell_type": "code",
   "execution_count": null,
   "id": "512cc787",
   "metadata": {},
   "outputs": [],
   "source": [
    "df_drop = df.dropna()\n",
    "print(\"\\n After using dropna():\")\n",
    "print(df_drop.isnull().sum())"
   ]
  },
  {
   "cell_type": "code",
   "execution_count": null,
   "id": "e8efae94",
   "metadata": {},
   "outputs": [],
   "source": [
    "df_mean = df.fillna(df.mean(numeric_only=True))\n",
    "print(\"\\n After using mean fill:\")\n",
    "print(df_mean.isnull().sum())"
   ]
  },
  {
   "cell_type": "code",
   "execution_count": null,
   "id": "34c4a33b",
   "metadata": {},
   "outputs": [],
   "source": [
    "df_ffill = df.ffill()\n",
    "print(\"\\n After using forward fill:\")\n",
    "print(df_ffill.isnull().sum())"
   ]
  },
  {
   "cell_type": "code",
   "execution_count": null,
   "id": "85b77d2f",
   "metadata": {},
   "outputs": [],
   "source": [
    "comparison = pd.DataFrame({\n",
    "    'Original Missing': df.isnull().sum(),\n",
    "    'After Dropna': df_drop.isnull().sum(),\n",
    "    'After Mean Fill': df_mean.isnull().sum(),\n",
    "    'After Forward Fill': df_ffill.isnull().sum()\n",
    "})\n",
    "\n",
    "print(\"\\n Comparison of All Three Methods:\")\n",
    "print(comparison)"
   ]
  }
 ],
 "metadata": {},
 "nbformat": 4,
 "nbformat_minor": 5
}
